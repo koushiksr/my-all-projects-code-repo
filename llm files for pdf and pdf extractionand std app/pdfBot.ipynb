{
 "cells": [
  {
   "cell_type": "code",
   "execution_count": 1,
   "metadata": {},
   "outputs": [
    {
     "name": "stderr",
     "output_type": "stream",
     "text": [
      "c:\\Users\\koush\\AppData\\Local\\Programs\\Python\\Python312\\Lib\\site-packages\\tqdm\\auto.py:21: TqdmWarning: IProgress not found. Please update jupyter and ipywidgets. See https://ipywidgets.readthedocs.io/en/stable/user_install.html\n",
      "  from .autonotebook import tqdm as notebook_tqdm\n"
     ]
    },
    {
     "name": "stdout",
     "output_type": "stream",
     "text": [
      "Response: Sample response to query: exit\n"
     ]
    }
   ],
   "source": [
    "import os\n",
    "import pickle\n",
    "\n",
    "def process_query_and_generate_response(query, db):\n",
    "    response = \"Sample response to query: \" + query\n",
    "    return response \n",
    "\n",
    "db_filename = \"db.pkl\"\n",
    "if os.path.exists(db_filename):\n",
    "    with open(db_filename, \"rb\") as f:\n",
    "        db = pickle.load(f)\n",
    "\n",
    "while True:\n",
    "    query = input(\"Enter your question: \")\n",
    "    response = process_query_and_generate_response(query, db)\n",
    "    print(\"Response:\", response)\n",
    "    another_query = input(\"Do you have another question? (y/n): \")\n",
    "    if another_query.lower() != \"y\":\n",
    "        break\n"
   ]
  }
 ],
 "metadata": {
  "kernelspec": {
   "display_name": "Python 3",
   "language": "python",
   "name": "python3"
  },
  "language_info": {
   "codemirror_mode": {
    "name": "ipython",
    "version": 3
   },
   "file_extension": ".py",
   "mimetype": "text/x-python",
   "name": "python",
   "nbconvert_exporter": "python",
   "pygments_lexer": "ipython3",
   "version": "3.12.2"
  }
 },
 "nbformat": 4,
 "nbformat_minor": 2
}
